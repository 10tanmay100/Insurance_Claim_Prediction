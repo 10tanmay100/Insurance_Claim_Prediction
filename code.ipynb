{
 "cells": [
  {
   "cell_type": "code",
   "execution_count": 3,
   "metadata": {},
   "outputs": [
    {
     "name": "stdout",
     "output_type": "stream",
     "text": [
      "['cassandra-driver\\n', 'ipykernel\\n', '\\n', '\\n', '## Dev Requirements\\n', 'pytest>=7.1.3\\n', 'mypy>=0.971\\n', 'flake8>=5.0.4\\n', 'tox>=3.25.1\\n', 'black>=22.8.0']\n"
     ]
    }
   ],
   "source": [
    "with open(\"requirements.txt\",\"r\") as f:\n",
    "          print(f.readlines())"
   ]
  },
  {
   "cell_type": "code",
   "execution_count": 3,
   "metadata": {},
   "outputs": [],
   "source": [
    "import pandas as pd\n",
    "def pandas_factory(colnames, rows):\n",
    "    return pd.DataFrame(rows, columns=colnames)"
   ]
  },
  {
   "cell_type": "code",
   "execution_count": 1,
   "metadata": {},
   "outputs": [
    {
     "ename": "NameError",
     "evalue": "name 'pandas_factory' is not defined",
     "output_type": "error",
     "traceback": [
      "\u001b[1;31m---------------------------------------------------------------------------\u001b[0m",
      "\u001b[1;31mNameError\u001b[0m                                 Traceback (most recent call last)",
      "\u001b[1;32mf:\\Project Ineuron\\Insurance_Fraud_Prediction\\code.ipynb Cell 3\u001b[0m in \u001b[0;36m<cell line: 9>\u001b[1;34m()\u001b[0m\n\u001b[0;32m      <a href='vscode-notebook-cell:/f%3A/Project%20Ineuron/Insurance_Fraud_Prediction/code.ipynb#W2sZmlsZQ%3D%3D?line=5'>6</a>\u001b[0m session \u001b[39m=\u001b[39m cluster\u001b[39m.\u001b[39mconnect(\u001b[39m\"\u001b[39m\u001b[39mdata\u001b[39m\u001b[39m\"\u001b[39m)\n\u001b[0;32m      <a href='vscode-notebook-cell:/f%3A/Project%20Ineuron/Insurance_Fraud_Prediction/code.ipynb#W2sZmlsZQ%3D%3D?line=7'>8</a>\u001b[0m row \u001b[39m=\u001b[39m session\u001b[39m.\u001b[39mexecute(\u001b[39m\"\u001b[39m\u001b[39mSELECT * FROM data.train_data\u001b[39m\u001b[39m\"\u001b[39m)\u001b[39m.\u001b[39mone()\n\u001b[1;32m----> <a href='vscode-notebook-cell:/f%3A/Project%20Ineuron/Insurance_Fraud_Prediction/code.ipynb#W2sZmlsZQ%3D%3D?line=8'>9</a>\u001b[0m session\u001b[39m.\u001b[39mrow_factory \u001b[39m=\u001b[39m pandas_factory\n\u001b[0;32m     <a href='vscode-notebook-cell:/f%3A/Project%20Ineuron/Insurance_Fraud_Prediction/code.ipynb#W2sZmlsZQ%3D%3D?line=9'>10</a>\u001b[0m session\u001b[39m.\u001b[39mdefault_fetch_size \u001b[39m=\u001b[39m \u001b[39mNone\u001b[39;00m\n\u001b[0;32m     <a href='vscode-notebook-cell:/f%3A/Project%20Ineuron/Insurance_Fraud_Prediction/code.ipynb#W2sZmlsZQ%3D%3D?line=10'>11</a>\u001b[0m query \u001b[39m=\u001b[39m \u001b[39m\"\u001b[39m\u001b[39mSELECT * FROM data.train_data\u001b[39m\u001b[39m\"\u001b[39m\n",
      "\u001b[1;31mNameError\u001b[0m: name 'pandas_factory' is not defined"
     ]
    }
   ],
   "source": [
    "from cassandra.cluster import Cluster\n",
    "from cassandra.auth import PlainTextAuthProvider\n",
    "cloud_config= {'secure_connect_bundle': \"F:\\Project Ineuron\\secure-connect-analytics-vidhya.zip\"}\n",
    "auth_provider = PlainTextAuthProvider(\"PMIjYMHgaJINxbWCLwUkpESO\", \"5LDlZ-TMtP0Hw,v9+5mfHZpOwCOt4r,veKDJ8csuGzZzWqEP7C3Q2GHFZ,fSTY5,TQI9Dt6gtjHJ5d2Y3,,C1R_hwMLKUrQ8pYZHeFU5JEAQdS4OsN1TkRAc,U4GvZeu\")\n",
    "cluster = Cluster(cloud=cloud_config, auth_provider=auth_provider)\n",
    "session = cluster.connect(\"data\")\n",
    "\n",
    "row = session.execute(\"SELECT * FROM data.train_data\").one()\n",
    "session.row_factory = pandas_factory\n",
    "session.default_fetch_size = None\n",
    "query = \"SELECT * FROM data.train_data\"\n",
    "rslt = session.execute(query, timeout=None)\n",
    "df = rslt._current_rows"
   ]
  },
  {
   "cell_type": "code",
   "execution_count": 7,
   "metadata": {},
   "outputs": [
    {
     "data": {
      "text/plain": [
       "Index(['policy_id', 'age_of_car', 'age_of_policyholder', 'airbags',\n",
       "       'area_cluster', 'cylinder', 'displacement', 'engine_type', 'fuel_type',\n",
       "       'gear_box', 'gross_weight', 'height', 'is_adjustable_steering',\n",
       "       'is_brake_assist', 'is_central_locking', 'is_claim',\n",
       "       'is_day_night_rear_view_mirror', 'is_driver_seat_height_adjustable',\n",
       "       'is_ecw', 'is_esc', 'is_front_fog_lights', 'is_parking_camera',\n",
       "       'is_parking_sensors', 'is_power_door_locks', 'is_power_steering',\n",
       "       'is_rear_window_defogger', 'is_rear_window_washer',\n",
       "       'is_rear_window_wiper', 'is_speed_alert', 'is_tpms', 'length', 'make',\n",
       "       'max_power', 'max_torque', 'model', 'ncap_rating', 'policy_tenure',\n",
       "       'population_density', 'rear_brakes_type', 'segment', 'steering_type',\n",
       "       'transmission_type', 'turning_radius', 'width'],\n",
       "      dtype='object')"
      ]
     },
     "execution_count": 7,
     "metadata": {},
     "output_type": "execute_result"
    }
   ],
   "source": [
    "df.columns"
   ]
  },
  {
   "cell_type": "code",
   "execution_count": 16,
   "metadata": {},
   "outputs": [
    {
     "name": "stdout",
     "output_type": "stream",
     "text": [
      "['cassandra-driver \\n', 'ipykernel\\n', 'pandas\\n', 'numpy\\n', '\\n', '## Dev Requirements\\n', 'pytest>=7.1.3\\n', 'mypy>=0.971\\n', 'flake8>=5.0.4\\n', 'tox>=3.25.1\\n', 'black>=22.8.0']\n"
     ]
    }
   ],
   "source": [
    "with open(\"requirements.txt\",\"r\") as requirements_file:\n",
    "          print(requirements_file.readlines())"
   ]
  },
  {
   "cell_type": "code",
   "execution_count": 12,
   "metadata": {},
   "outputs": [],
   "source": [
    "f=open(\"requirements.txt\",\"r\")"
   ]
  },
  {
   "cell_type": "code",
   "execution_count": 15,
   "metadata": {},
   "outputs": [
    {
     "data": {
      "text/plain": [
       "''"
      ]
     },
     "execution_count": 15,
     "metadata": {},
     "output_type": "execute_result"
    }
   ],
   "source": [
    "f.read"
   ]
  },
  {
   "cell_type": "code",
   "execution_count": 2,
   "metadata": {},
   "outputs": [
    {
     "name": "stdout",
     "output_type": "stream",
     "text": [
      "Defaulting to user installation because normal site-packages is not writeable"
     ]
    }
   ],
   "source": [
    "!pip install pyYAML"
   ]
  },
  {
   "cell_type": "code",
   "execution_count": 3,
   "metadata": {},
   "outputs": [],
   "source": [
    "import yaml"
   ]
  },
  {
   "cell_type": "code",
   "execution_count": 4,
   "metadata": {},
   "outputs": [],
   "source": [
    "from src.insurance_fraud.utils.main_utils import read_yaml_file"
   ]
  },
  {
   "cell_type": "code",
   "execution_count": 7,
   "metadata": {},
   "outputs": [],
   "source": [
    "file=read_yaml_file(r'config\\schema.yaml')"
   ]
  },
  {
   "cell_type": "code",
   "execution_count": 11,
   "metadata": {},
   "outputs": [
    {
     "data": {
      "text/plain": [
       "44"
      ]
     },
     "execution_count": 11,
     "metadata": {},
     "output_type": "execute_result"
    }
   ],
   "source": [
    "len(file[\"columns\"])"
   ]
  },
  {
   "cell_type": "code",
   "execution_count": null,
   "metadata": {},
   "outputs": [],
   "source": []
  }
 ],
 "metadata": {
  "kernelspec": {
   "display_name": "Python 3.9.12 ('base')",
   "language": "python",
   "name": "python3"
  },
  "language_info": {
   "codemirror_mode": {
    "name": "ipython",
    "version": 3
   },
   "file_extension": ".py",
   "mimetype": "text/x-python",
   "name": "python",
   "nbconvert_exporter": "python",
   "pygments_lexer": "ipython3",
   "version": "3.9.12"
  },
  "orig_nbformat": 4,
  "vscode": {
   "interpreter": {
    "hash": "ad2bdc8ecc057115af97d19610ffacc2b4e99fae6737bb82f5d7fb13d2f2c186"
   }
  }
 },
 "nbformat": 4,
 "nbformat_minor": 2
}
