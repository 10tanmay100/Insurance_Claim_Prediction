{
 "cells": [
  {
   "cell_type": "code",
   "execution_count": 3,
   "metadata": {},
   "outputs": [
    {
     "name": "stdout",
     "output_type": "stream",
     "text": [
      "['cassandra-driver\\n', 'ipykernel\\n', '\\n', '\\n', '## Dev Requirements\\n', 'pytest>=7.1.3\\n', 'mypy>=0.971\\n', 'flake8>=5.0.4\\n', 'tox>=3.25.1\\n', 'black>=22.8.0']\n"
     ]
    }
   ],
   "source": [
    "with open(\"requirements.txt\",\"r\") as f:\n",
    "          print(f.readlines())"
   ]
  },
  {
   "cell_type": "code",
   "execution_count": null,
   "metadata": {},
   "outputs": [],
   "source": []
  }
 ],
 "metadata": {
  "kernelspec": {
   "display_name": "Python 3.8.0",
   "language": "python",
   "name": "python3"
  },
  "language_info": {
   "codemirror_mode": {
    "name": "ipython",
    "version": 3
   },
   "file_extension": ".py",
   "mimetype": "text/x-python",
   "name": "python",
   "nbconvert_exporter": "python",
   "pygments_lexer": "ipython3",
   "version": "3.8.0"
  },
  "orig_nbformat": 4,
  "vscode": {
   "interpreter": {
    "hash": "fae180ab680a4e11d40b1dab502100705c019d90658efa32b035fdd5ae9f735b"
   }
  }
 },
 "nbformat": 4,
 "nbformat_minor": 2
}
