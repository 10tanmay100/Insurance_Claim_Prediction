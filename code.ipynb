{
 "cells": [
  {
   "cell_type": "code",
   "execution_count": 3,
   "metadata": {},
   "outputs": [
    {
     "name": "stdout",
     "output_type": "stream",
     "text": [
      "['cassandra-driver\\n', 'ipykernel\\n', '\\n', '\\n', '## Dev Requirements\\n', 'pytest>=7.1.3\\n', 'mypy>=0.971\\n', 'flake8>=5.0.4\\n', 'tox>=3.25.1\\n', 'black>=22.8.0']\n"
     ]
    }
   ],
   "source": [
    "with open(\"requirements.txt\",\"r\") as f:\n",
    "          print(f.readlines())"
   ]
  },
  {
   "cell_type": "code",
   "execution_count": 3,
   "metadata": {},
   "outputs": [],
   "source": [
    "import pandas as pd\n",
    "def pandas_factory(colnames, rows):\n",
    "    return pd.DataFrame(rows, columns=colnames)"
   ]
  },
  {
   "cell_type": "code",
   "execution_count": 3,
   "metadata": {},
   "outputs": [
    {
     "ename": "DriverException",
     "evalue": "Unable to connect to the metadata service at https://379f5da1-6062-4678-860a-a0156d96f8a9-asia-south1.db.astra.datastax.com:29080/metadata. Check the cluster status in the cloud console. ",
     "output_type": "error",
     "traceback": [
      "\u001b[1;31m---------------------------------------------------------------------------\u001b[0m",
      "\u001b[1;31mHTTPError\u001b[0m                                 Traceback (most recent call last)",
      "File \u001b[1;32mf:\\Project Ineuron\\Insurance_Fraud_Prediction\\venv\\lib\\site-packages\\cassandra\\datastax\\cloud\\__init__.py:138\u001b[0m, in \u001b[0;36mread_metadata_info\u001b[1;34m(config, cloud_config)\u001b[0m\n\u001b[0;32m    137\u001b[0m \u001b[39mtry\u001b[39;00m:\n\u001b[1;32m--> 138\u001b[0m     response \u001b[39m=\u001b[39m urlopen(url, context\u001b[39m=\u001b[39;49mconfig\u001b[39m.\u001b[39;49mssl_context, timeout\u001b[39m=\u001b[39;49mtimeout)\n\u001b[0;32m    139\u001b[0m \u001b[39mexcept\u001b[39;00m \u001b[39mException\u001b[39;00m \u001b[39mas\u001b[39;00m e:\n",
      "File \u001b[1;32mf:\\Project Ineuron\\Insurance_Fraud_Prediction\\venv\\lib\\urllib\\request.py:222\u001b[0m, in \u001b[0;36murlopen\u001b[1;34m(url, data, timeout, cafile, capath, cadefault, context)\u001b[0m\n\u001b[0;32m    221\u001b[0m     opener \u001b[39m=\u001b[39m _opener\n\u001b[1;32m--> 222\u001b[0m \u001b[39mreturn\u001b[39;00m opener\u001b[39m.\u001b[39;49mopen(url, data, timeout)\n",
      "File \u001b[1;32mf:\\Project Ineuron\\Insurance_Fraud_Prediction\\venv\\lib\\urllib\\request.py:531\u001b[0m, in \u001b[0;36mOpenerDirector.open\u001b[1;34m(self, fullurl, data, timeout)\u001b[0m\n\u001b[0;32m    530\u001b[0m     meth \u001b[39m=\u001b[39m \u001b[39mgetattr\u001b[39m(processor, meth_name)\n\u001b[1;32m--> 531\u001b[0m     response \u001b[39m=\u001b[39m meth(req, response)\n\u001b[0;32m    533\u001b[0m \u001b[39mreturn\u001b[39;00m response\n",
      "File \u001b[1;32mf:\\Project Ineuron\\Insurance_Fraud_Prediction\\venv\\lib\\urllib\\request.py:640\u001b[0m, in \u001b[0;36mHTTPErrorProcessor.http_response\u001b[1;34m(self, request, response)\u001b[0m\n\u001b[0;32m    639\u001b[0m \u001b[39mif\u001b[39;00m \u001b[39mnot\u001b[39;00m (\u001b[39m200\u001b[39m \u001b[39m<\u001b[39m\u001b[39m=\u001b[39m code \u001b[39m<\u001b[39m \u001b[39m300\u001b[39m):\n\u001b[1;32m--> 640\u001b[0m     response \u001b[39m=\u001b[39m \u001b[39mself\u001b[39;49m\u001b[39m.\u001b[39;49mparent\u001b[39m.\u001b[39;49merror(\n\u001b[0;32m    641\u001b[0m         \u001b[39m'\u001b[39;49m\u001b[39mhttp\u001b[39;49m\u001b[39m'\u001b[39;49m, request, response, code, msg, hdrs)\n\u001b[0;32m    643\u001b[0m \u001b[39mreturn\u001b[39;00m response\n",
      "File \u001b[1;32mf:\\Project Ineuron\\Insurance_Fraud_Prediction\\venv\\lib\\urllib\\request.py:569\u001b[0m, in \u001b[0;36mOpenerDirector.error\u001b[1;34m(self, proto, *args)\u001b[0m\n\u001b[0;32m    568\u001b[0m args \u001b[39m=\u001b[39m (\u001b[39mdict\u001b[39m, \u001b[39m'\u001b[39m\u001b[39mdefault\u001b[39m\u001b[39m'\u001b[39m, \u001b[39m'\u001b[39m\u001b[39mhttp_error_default\u001b[39m\u001b[39m'\u001b[39m) \u001b[39m+\u001b[39m orig_args\n\u001b[1;32m--> 569\u001b[0m \u001b[39mreturn\u001b[39;00m \u001b[39mself\u001b[39;49m\u001b[39m.\u001b[39;49m_call_chain(\u001b[39m*\u001b[39;49margs)\n",
      "File \u001b[1;32mf:\\Project Ineuron\\Insurance_Fraud_Prediction\\venv\\lib\\urllib\\request.py:502\u001b[0m, in \u001b[0;36mOpenerDirector._call_chain\u001b[1;34m(self, chain, kind, meth_name, *args)\u001b[0m\n\u001b[0;32m    501\u001b[0m func \u001b[39m=\u001b[39m \u001b[39mgetattr\u001b[39m(handler, meth_name)\n\u001b[1;32m--> 502\u001b[0m result \u001b[39m=\u001b[39m func(\u001b[39m*\u001b[39;49margs)\n\u001b[0;32m    503\u001b[0m \u001b[39mif\u001b[39;00m result \u001b[39mis\u001b[39;00m \u001b[39mnot\u001b[39;00m \u001b[39mNone\u001b[39;00m:\n",
      "File \u001b[1;32mf:\\Project Ineuron\\Insurance_Fraud_Prediction\\venv\\lib\\urllib\\request.py:649\u001b[0m, in \u001b[0;36mHTTPDefaultErrorHandler.http_error_default\u001b[1;34m(self, req, fp, code, msg, hdrs)\u001b[0m\n\u001b[0;32m    648\u001b[0m \u001b[39mdef\u001b[39;00m \u001b[39mhttp_error_default\u001b[39m(\u001b[39mself\u001b[39m, req, fp, code, msg, hdrs):\n\u001b[1;32m--> 649\u001b[0m     \u001b[39mraise\u001b[39;00m HTTPError(req\u001b[39m.\u001b[39mfull_url, code, msg, hdrs, fp)\n",
      "\u001b[1;31mHTTPError\u001b[0m: HTTP Error 401: Unauthorized",
      "\nDuring handling of the above exception, another exception occurred:\n",
      "\u001b[1;31mDriverException\u001b[0m                           Traceback (most recent call last)",
      "Cell \u001b[1;32mIn[3], line 5\u001b[0m\n\u001b[0;32m      3\u001b[0m cloud_config\u001b[39m=\u001b[39m {\u001b[39m'\u001b[39m\u001b[39msecure_connect_bundle\u001b[39m\u001b[39m'\u001b[39m: \u001b[39m'\u001b[39m\u001b[39mE:\u001b[39m\u001b[39m\\\u001b[39m\u001b[39mml project\u001b[39m\u001b[39m\\\u001b[39m\u001b[39msecure-connect-forest-cover-database.zip\u001b[39m\u001b[39m'\u001b[39m}\n\u001b[0;32m      4\u001b[0m auth_provider \u001b[39m=\u001b[39m PlainTextAuthProvider(\u001b[39m'\u001b[39m\u001b[39mvdKxIwoytZzbJqZOjwPwMCCJ\u001b[39m\u001b[39m'\u001b[39m, \u001b[39m'\u001b[39m\u001b[39m1DSXY5A7v-XsU9KZB5jMXCRtL,ieqwb_+4GDMeerEh+a,bZZD4n,qmHpv-+hUzLDDMNDTHDw0MhpteWXry-nmSoBy-zo80DkLRjavIER7-0ubcJ13BGxMqv035BtT4qx\u001b[39m\u001b[39m'\u001b[39m)\n\u001b[1;32m----> 5\u001b[0m cluster \u001b[39m=\u001b[39m Cluster(cloud\u001b[39m=\u001b[39;49mcloud_config, auth_provider\u001b[39m=\u001b[39;49mauth_provider)\n\u001b[0;32m      6\u001b[0m session \u001b[39m=\u001b[39m cluster\u001b[39m.\u001b[39mconnect(\u001b[39m\"\u001b[39m\u001b[39mforest_cover\u001b[39m\u001b[39m\"\u001b[39m)\n\u001b[0;32m      8\u001b[0m row \u001b[39m=\u001b[39m session\u001b[39m.\u001b[39mexecute(\u001b[39m\"\u001b[39m\u001b[39mSELECT * FROM forest_cover.train\u001b[39m\u001b[39m\"\u001b[39m)\u001b[39m.\u001b[39mone()\n",
      "File \u001b[1;32mf:\\Project Ineuron\\Insurance_Fraud_Prediction\\venv\\lib\\site-packages\\cassandra\\cluster.py:1125\u001b[0m, in \u001b[0;36mcassandra.cluster.Cluster.__init__\u001b[1;34m()\u001b[0m\n",
      "File \u001b[1;32mf:\\Project Ineuron\\Insurance_Fraud_Prediction\\venv\\lib\\site-packages\\cassandra\\datastax\\cloud\\__init__.py:92\u001b[0m, in \u001b[0;36mget_cloud_config\u001b[1;34m(cloud_config, create_pyopenssl_context)\u001b[0m\n\u001b[0;32m     89\u001b[0m \u001b[39mexcept\u001b[39;00m BadZipFile:\n\u001b[0;32m     90\u001b[0m     \u001b[39mraise\u001b[39;00m \u001b[39mValueError\u001b[39;00m(\u001b[39m\"\u001b[39m\u001b[39mUnable to open the zip file for the cloud config. Check your secure connect bundle.\u001b[39m\u001b[39m\"\u001b[39m)\n\u001b[1;32m---> 92\u001b[0m config \u001b[39m=\u001b[39m read_metadata_info(config, cloud_config)\n\u001b[0;32m     93\u001b[0m \u001b[39mif\u001b[39;00m create_pyopenssl_context:\n\u001b[0;32m     94\u001b[0m     config\u001b[39m.\u001b[39mssl_context \u001b[39m=\u001b[39m config\u001b[39m.\u001b[39mpyopenssl_context\n",
      "File \u001b[1;32mf:\\Project Ineuron\\Insurance_Fraud_Prediction\\venv\\lib\\site-packages\\cassandra\\datastax\\cloud\\__init__.py:141\u001b[0m, in \u001b[0;36mread_metadata_info\u001b[1;34m(config, cloud_config)\u001b[0m\n\u001b[0;32m    139\u001b[0m \u001b[39mexcept\u001b[39;00m \u001b[39mException\u001b[39;00m \u001b[39mas\u001b[39;00m e:\n\u001b[0;32m    140\u001b[0m     log\u001b[39m.\u001b[39mexception(e)\n\u001b[1;32m--> 141\u001b[0m     \u001b[39mraise\u001b[39;00m DriverException(\u001b[39m\"\u001b[39m\u001b[39mUnable to connect to the metadata service at \u001b[39m\u001b[39m%s\u001b[39;00m\u001b[39m. \u001b[39m\u001b[39m\"\u001b[39m\n\u001b[0;32m    142\u001b[0m                           \u001b[39m\"\u001b[39m\u001b[39mCheck the cluster status in the cloud console. \u001b[39m\u001b[39m\"\u001b[39m \u001b[39m%\u001b[39m url)\n\u001b[0;32m    144\u001b[0m \u001b[39mif\u001b[39;00m response\u001b[39m.\u001b[39mcode \u001b[39m!=\u001b[39m \u001b[39m200\u001b[39m:\n\u001b[0;32m    145\u001b[0m     \u001b[39mraise\u001b[39;00m DriverException((\u001b[39m\"\u001b[39m\u001b[39mError while fetching the metadata at: \u001b[39m\u001b[39m%s\u001b[39;00m\u001b[39m. \u001b[39m\u001b[39m\"\u001b[39m\n\u001b[0;32m    146\u001b[0m                            \u001b[39m\"\u001b[39m\u001b[39mThe service returned error code \u001b[39m\u001b[39m%d\u001b[39;00m\u001b[39m.\u001b[39m\u001b[39m\"\u001b[39m \u001b[39m%\u001b[39m (url, response\u001b[39m.\u001b[39mcode)))\n",
      "\u001b[1;31mDriverException\u001b[0m: Unable to connect to the metadata service at https://379f5da1-6062-4678-860a-a0156d96f8a9-asia-south1.db.astra.datastax.com:29080/metadata. Check the cluster status in the cloud console. "
     ]
    }
   ],
   "source": [
    "from cassandra.cluster import Cluster\n",
    "from cassandra.auth import PlainTextAuthProvider\n",
    "cloud_config= {'secure_connect_bundle': \"F:\\Project Ineuron\\secure-connect-analytics-vidhya.zip\"}\n",
    "auth_provider = PlainTextAuthProvider(\"PMIjYMHgaJINxbWCLwUkpESO\", \"5LDlZ-TMtP0Hw,v9+5mfHZpOwCOt4r,veKDJ8csuGzZzWqEP7C3Q2GHFZ,fSTY5,TQI9Dt6gtjHJ5d2Y3,,C1R_hwMLKUrQ8pYZHeFU5JEAQdS4OsN1TkRAc,U4GvZeu\")\n",
    "cluster = Cluster(cloud=cloud_config, auth_provider=auth_provider)\n",
    "session = cluster.connect(\"forest_cover\")\n",
    "\n",
    "row = session.execute(\"SELECT * FROM forest_cover.train\").one()\n",
    "session.row_factory = pandas_factory\n",
    "session.default_fetch_size = None\n",
    "query = \"SELECT * FROM forest_cover.train\"\n",
    "rslt = session.execute(query, timeout=None)\n",
    "df = rslt._current_rows"
   ]
  },
  {
   "cell_type": "code",
   "execution_count": null,
   "metadata": {},
   "outputs": [],
   "source": []
  }
 ],
 "metadata": {
  "kernelspec": {
   "display_name": "Python 3.9.12 ('base')",
   "language": "python",
   "name": "python3"
  },
  "language_info": {
   "codemirror_mode": {
    "name": "ipython",
    "version": 3
   },
   "file_extension": ".py",
   "mimetype": "text/x-python",
   "name": "python",
   "nbconvert_exporter": "python",
   "pygments_lexer": "ipython3",
   "version": "3.9.12"
  },
  "orig_nbformat": 4,
  "vscode": {
   "interpreter": {
    "hash": "ad2bdc8ecc057115af97d19610ffacc2b4e99fae6737bb82f5d7fb13d2f2c186"
   }
  }
 },
 "nbformat": 4,
 "nbformat_minor": 2
}
